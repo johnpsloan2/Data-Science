{
 "cells": [
  {
   "cell_type": "markdown",
   "metadata": {},
   "source": [
    "# Select, From, Where\n",
    "\n",
    "1 - Write SQL queries to return the ID's and durations for all trips of duration greater than 500, ordered by duration.\n",
    "\n",
    "\n",
    "SELECT\n",
    "\ttrip_id,\n",
    "\tduration\n",
    "\n",
    "\n",
    "FROM\n",
    "\ttrips\n",
    "\n",
    "\n",
    "WHERE\n",
    "\tduration > 500\n",
    "\n",
    "\n",
    "ORDER by duration \n",
    "\n"
   ]
  },
  {
   "cell_type": "markdown",
   "metadata": {
    "collapsed": true
   },
   "source": [
    "2 - Write SQL queries to return every column of the stations table for station id 84.\n",
    "\n",
    "SELECT\n",
    "\t*\n",
    "\n",
    "\n",
    "FROM\n",
    "\tstations\n",
    "\n",
    "\n",
    "WHERE\n",
    "\tstation_id = 84"
   ]
  },
  {
   "cell_type": "markdown",
   "metadata": {},
   "source": [
    "3 - Write SQL queries to return the min temperatures of all the occurrences of rain in zip 94301.\n",
    "\n",
    "SELECT\n",
    "\tMinTemperatureF\n",
    "\n",
    "\n",
    "FROM\n",
    "\tweather\n",
    "\n",
    "\n",
    "WHERE\n",
    "\tZIP = 94301"
   ]
  }
 ],
 "metadata": {
  "kernelspec": {
   "display_name": "Python 3",
   "language": "python",
   "name": "python3"
  },
  "language_info": {
   "codemirror_mode": {
    "name": "ipython",
    "version": 3
   },
   "file_extension": ".py",
   "mimetype": "text/x-python",
   "name": "python",
   "nbconvert_exporter": "python",
   "pygments_lexer": "ipython3",
   "version": "3.6.3"
  }
 },
 "nbformat": 4,
 "nbformat_minor": 2
}
