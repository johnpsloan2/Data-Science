{
 "cells": [
  {
   "cell_type": "code",
   "execution_count": 4,
   "metadata": {},
   "outputs": [
    {
     "name": "stdout",
     "output_type": "stream",
     "text": [
      "                               Country or Area  Year  Value\n",
      "0                                  Afghanistan  2005   35.2\n",
      "1                                      Albania  2005    5.0\n",
      "2                                      Algeria  2005    7.0\n",
      "3                               American Samoa  2005    NaN\n",
      "4                                      Andorra  2005    5.0\n",
      "5                                       Angola  2005   34.2\n",
      "6                                     Anguilla  2005    NaN\n",
      "7                          Antigua and Barbuda  2005    NaN\n",
      "8                                    Argentina  2005    5.0\n",
      "9                                      Armenia  2005   10.9\n",
      "10                                       Aruba  2005    NaN\n",
      "11                                   Australia  2005    5.0\n",
      "12                                     Austria  2005    5.0\n",
      "13                                  Azerbaijan  2005    5.0\n",
      "14                                     Bahamas  2005    NaN\n",
      "15                                     Bahrain  2005    NaN\n",
      "16                                  Bangladesh  2005   17.1\n",
      "17                                    Barbados  2005    6.9\n",
      "18                                     Belarus  2005    5.0\n",
      "19                                     Belgium  2005    5.0\n",
      "20                                      Belize  2005    5.0\n",
      "21                                       Benin  2005   15.9\n",
      "22                                     Bermuda  2005    5.0\n",
      "23                                      Bhutan  2005    NaN\n",
      "24                                     Bolivia  2005   31.1\n",
      "25                      Bosnia and Herzegovina  2005    5.0\n",
      "26                                    Botswana  2005   32.8\n",
      "27                                      Brazil  2005    5.0\n",
      "28                      British Virgin Islands  2005    NaN\n",
      "29                           Brunei Darussalam  2005    5.0\n",
      "..                                         ...   ...    ...\n",
      "194                                 Tajikistan  2005   42.3\n",
      "195                                   Thailand  2005   13.4\n",
      "196  The former Yugoslav Republic of Macedonia  2005    5.0\n",
      "197                                Timor-Leste  2005   33.8\n",
      "198                                       Togo  2005   25.3\n",
      "199                                    Tokelau  2005    NaN\n",
      "200                                      Tonga  2005    NaN\n",
      "201                        Trinidad and Tobago  2005   12.0\n",
      "202                                    Tunisia  2005    5.0\n",
      "203                                     Turkey  2005    5.0\n",
      "204                               Turkmenistan  2005    5.5\n",
      "205                   Turks and Caicos Islands  2005    NaN\n",
      "206                                     Tuvalu  2005    NaN\n",
      "207                                     Uganda  2005   21.9\n",
      "208                                    Ukraine  2005    5.0\n",
      "209                       United Arab Emirates  2005    5.0\n",
      "210                             United Kingdom  2005    5.0\n",
      "211                United Republic of Tanzania  2005   36.7\n",
      "212                              United States  2005    5.0\n",
      "213               United States Virgin Islands  2005    NaN\n",
      "214                                    Uruguay  2005    5.0\n",
      "215                                 Uzbekistan  2005   14.7\n",
      "216                                    Vanuatu  2005    7.4\n",
      "217                                  Venezuela  2005   11.7\n",
      "218                                   Viet Nam  2005   19.0\n",
      "219                  Wallis and Futuna Islands  2005    NaN\n",
      "220                             Western Sahara  2005    NaN\n",
      "221                                      Yemen  2005   30.6\n",
      "222                                     Zambia  2005   49.4\n",
      "223                                   Zimbabwe  2005   41.6\n",
      "\n",
      "[224 rows x 3 columns]\n"
     ]
    }
   ],
   "source": [
    "import matplotlib.pyplot as plt\n",
    "%matplotlib inline\n",
    "import numpy as np\n",
    "import pandas as pd\n",
    "\n",
    "df=pd.read_csv('2005_Data.csv')\n",
    "print(df)"
   ]
  },
  {
   "cell_type": "code",
   "execution_count": 5,
   "metadata": {},
   "outputs": [
    {
     "name": "stdout",
     "output_type": "stream",
     "text": [
      "                               Country or Area  Year  Value\n",
      "0                                  Afghanistan  2005   35.2\n",
      "1                                      Albania  2005    5.0\n",
      "2                                      Algeria  2005    7.0\n",
      "4                                      Andorra  2005    5.0\n",
      "5                                       Angola  2005   34.2\n",
      "8                                    Argentina  2005    5.0\n",
      "9                                      Armenia  2005   10.9\n",
      "11                                   Australia  2005    5.0\n",
      "12                                     Austria  2005    5.0\n",
      "13                                  Azerbaijan  2005    5.0\n",
      "16                                  Bangladesh  2005   17.1\n",
      "17                                    Barbados  2005    6.9\n",
      "18                                     Belarus  2005    5.0\n",
      "19                                     Belgium  2005    5.0\n",
      "20                                      Belize  2005    5.0\n",
      "21                                       Benin  2005   15.9\n",
      "22                                     Bermuda  2005    5.0\n",
      "24                                     Bolivia  2005   31.1\n",
      "25                      Bosnia and Herzegovina  2005    5.0\n",
      "26                                    Botswana  2005   32.8\n",
      "27                                      Brazil  2005    5.0\n",
      "29                           Brunei Darussalam  2005    5.0\n",
      "30                                    Bulgaria  2005    5.0\n",
      "31                                Burkina Faso  2005   25.9\n",
      "33                                    Cambodia  2005   20.8\n",
      "34                                    Cameroon  2005   23.1\n",
      "35                                      Canada  2005    5.0\n",
      "36                                  Cape Verde  2005   15.9\n",
      "38                    Central African Republic  2005   41.8\n",
      "39                                        Chad  2005   39.7\n",
      "..                                         ...   ...    ...\n",
      "182                               South Africa  2005    5.0\n",
      "184                                      Spain  2005    5.0\n",
      "185                                  Sri Lanka  2005   29.5\n",
      "189                                   Suriname  2005   12.2\n",
      "190                                  Swaziland  2005   15.8\n",
      "191                                     Sweden  2005    5.0\n",
      "192                                Switzerland  2005    5.0\n",
      "194                                 Tajikistan  2005   42.3\n",
      "195                                   Thailand  2005   13.4\n",
      "196  The former Yugoslav Republic of Macedonia  2005    5.0\n",
      "197                                Timor-Leste  2005   33.8\n",
      "198                                       Togo  2005   25.3\n",
      "201                        Trinidad and Tobago  2005   12.0\n",
      "202                                    Tunisia  2005    5.0\n",
      "203                                     Turkey  2005    5.0\n",
      "204                               Turkmenistan  2005    5.5\n",
      "207                                     Uganda  2005   21.9\n",
      "208                                    Ukraine  2005    5.0\n",
      "209                       United Arab Emirates  2005    5.0\n",
      "210                             United Kingdom  2005    5.0\n",
      "211                United Republic of Tanzania  2005   36.7\n",
      "212                              United States  2005    5.0\n",
      "214                                    Uruguay  2005    5.0\n",
      "215                                 Uzbekistan  2005   14.7\n",
      "216                                    Vanuatu  2005    7.4\n",
      "217                                  Venezuela  2005   11.7\n",
      "218                                   Viet Nam  2005   19.0\n",
      "221                                      Yemen  2005   30.6\n",
      "222                                     Zambia  2005   49.4\n",
      "223                                   Zimbabwe  2005   41.6\n",
      "\n",
      "[170 rows x 3 columns]\n"
     ]
    }
   ],
   "source": [
    "df = df[np.isfinite(df['Value'])]\n",
    "print(df)"
   ]
  },
  {
   "cell_type": "code",
   "execution_count": 6,
   "metadata": {},
   "outputs": [
    {
     "data": {
      "image/png": "[encoded data removed]",
      "text/plain": [
       "<matplotlib.figure.Figure at 0x10cc0ff98>"
      ]
     },
     "metadata": {},
     "output_type": "display_data"
    }
   ],
   "source": [
    "plt.hist(df['Value'], bins=30, color='red')\n",
    "plt.show()"
   ]
  },
  {
   "cell_type": "code",
   "execution_count": 7,
   "metadata": {},
   "outputs": [
    {
     "data": {
      "text/plain": [
       "(array([  0.,   0.,   0.,   0.,   0.,  83.,   5.,   3.,   1.,   1.,   8.,\n",
       "          4.,   3.,   1.,   2.,   7.,   2.,   3.,   1.,   2.,   2.,   2.,\n",
       "          1.,   3.,   2.,   5.,   1.,   1.,   0.,   2.,   2.,   2.,   1.,\n",
       "          1.,   3.,   1.,   2.,   3.,   0.,   3.,   0.,   2.,   1.,   0.,\n",
       "          0.,   1.,   1.,   0.,   0.,   1.,   0.,   0.,   0.,   0.,   0.,\n",
       "          0.,   0.,   1.,   0.]),\n",
       " array([ 0,  1,  2,  3,  4,  5,  6,  7,  8,  9, 10, 11, 12, 13, 14, 15, 16,\n",
       "        17, 18, 19, 20, 21, 22, 23, 24, 25, 26, 27, 28, 29, 30, 31, 32, 33,\n",
       "        34, 35, 36, 37, 38, 39, 40, 41, 42, 43, 44, 45, 46, 47, 48, 49, 50,\n",
       "        51, 52, 53, 54, 55, 56, 57, 58, 59]),\n",
       " <a list of 59 Patch objects>)"
      ]
     },
     "execution_count": 7,
     "metadata": {},
     "output_type": "execute_result"
    },
    {
     "data": {
      "image/png": "[encoded data removed]",
      "text/plain": [
       "<matplotlib.figure.Figure at 0x10cfca978>"
      ]
     },
     "metadata": {},
     "output_type": "display_data"
    }
   ],
   "source": [
    "plt.hist(df['Value'], color='blue', bins=np.arange(0, 60), alpha=1)"
   ]
  },
  {
   "cell_type": "code",
   "execution_count": 8,
   "metadata": {},
   "outputs": [
    {
     "data": {
      "text/plain": [
       "{'boxes': [<matplotlib.lines.Line2D at 0x10d1c1cf8>],\n",
       " 'caps': [<matplotlib.lines.Line2D at 0x10d1d4710>,\n",
       "  <matplotlib.lines.Line2D at 0x10d1d4f28>],\n",
       " 'fliers': [<matplotlib.lines.Line2D at 0x10d1ddf98>],\n",
       " 'means': [],\n",
       " 'medians': [<matplotlib.lines.Line2D at 0x10d1dd128>],\n",
       " 'whiskers': [<matplotlib.lines.Line2D at 0x10d1c1eb8>,\n",
       "  <matplotlib.lines.Line2D at 0x10d1cdeb8>]}"
      ]
     },
     "execution_count": 8,
     "metadata": {},
     "output_type": "execute_result"
    },
    {
     "data": {
      "image/png": "[encoded data removed]",
      "text/plain": [
       "<matplotlib.figure.Figure at 0x1040cfd68>"
      ]
     },
     "metadata": {},
     "output_type": "display_data"
    }
   ],
   "source": [
    "plt.boxplot(df['Value'])"
   ]
  },
  {
   "cell_type": "code",
   "execution_count": null,
   "metadata": {
    "collapsed": true
   },
   "outputs": [],
   "source": []
  },
  {
   "cell_type": "code",
   "execution_count": 9,
   "metadata": {},
   "outputs": [
    {
     "name": "stdout",
     "output_type": "stream",
     "text": [
      "                               Country or Area  Year  Value\n",
      "0                                  Afghanistan  2015   26.8\n",
      "1                                      Albania  2015    5.0\n",
      "2                                      Algeria  2015    5.0\n",
      "3                               American Samoa  2015    NaN\n",
      "4                                      Andorra  2015    5.0\n",
      "5                                       Angola  2015   14.2\n",
      "6                                     Anguilla  2015    NaN\n",
      "7                          Antigua and Barbuda  2015    NaN\n",
      "8                                    Argentina  2015    5.0\n",
      "9                                      Armenia  2015    5.8\n",
      "10                                       Aruba  2015    NaN\n",
      "11                                   Australia  2015    5.0\n",
      "12                                     Austria  2015    5.0\n",
      "13                                  Azerbaijan  2015    5.0\n",
      "14                                     Bahamas  2015    NaN\n",
      "15                                     Bahrain  2015    NaN\n",
      "16                                  Bangladesh  2015   16.4\n",
      "17                                    Barbados  2015    5.0\n",
      "18                                     Belarus  2015    5.0\n",
      "19                                     Belgium  2015    5.0\n",
      "20                                      Belize  2015    6.2\n",
      "21                                       Benin  2015    7.5\n",
      "22                                     Bermuda  2015    5.0\n",
      "23                                      Bhutan  2015    NaN\n",
      "24                                     Bolivia  2015   15.9\n",
      "25                      Bosnia and Herzegovina  2015    5.0\n",
      "26                                    Botswana  2015   24.1\n",
      "27                                      Brazil  2015    5.0\n",
      "28                      British Virgin Islands  2015    NaN\n",
      "29                           Brunei Darussalam  2015    5.0\n",
      "..                                         ...   ...    ...\n",
      "194                                 Tajikistan  2015   33.2\n",
      "195                                   Thailand  2015    7.4\n",
      "196  The former Yugoslav Republic of Macedonia  2015    5.0\n",
      "197                                Timor-Leste  2015   26.9\n",
      "198                                       Togo  2015   11.4\n",
      "199                                    Tokelau  2015    NaN\n",
      "200                                      Tonga  2015    NaN\n",
      "201                        Trinidad and Tobago  2015    7.4\n",
      "202                                    Tunisia  2015    5.0\n",
      "203                                     Turkey  2015    5.0\n",
      "204                               Turkmenistan  2015    5.0\n",
      "205                   Turks and Caicos Islands  2015    NaN\n",
      "206                                     Tuvalu  2015    NaN\n",
      "207                                     Uganda  2015   25.5\n",
      "208                                    Ukraine  2015    5.0\n",
      "209                       United Arab Emirates  2015    5.0\n",
      "210                             United Kingdom  2015    5.0\n",
      "211                United Republic of Tanzania  2015   32.1\n",
      "212                              United States  2015    5.0\n",
      "213               United States Virgin Islands  2015    NaN\n",
      "214                                    Uruguay  2015    5.0\n",
      "215                                 Uzbekistan  2015    5.0\n",
      "216                                    Vanuatu  2015    6.4\n",
      "217                                  Venezuela  2015    5.0\n",
      "218                                   Viet Nam  2015   11.0\n",
      "219                  Wallis and Futuna Islands  2015    NaN\n",
      "220                             Western Sahara  2015    NaN\n",
      "221                                      Yemen  2015   26.1\n",
      "222                                     Zambia  2015   47.8\n",
      "223                                   Zimbabwe  2015   33.4\n",
      "\n",
      "[224 rows x 3 columns]\n"
     ]
    }
   ],
   "source": [
    "df_2015=pd.read_csv('2015_Data.csv')\n",
    "print(df_2015)"
   ]
  },
  {
   "cell_type": "code",
   "execution_count": 10,
   "metadata": {},
   "outputs": [
    {
     "name": "stdout",
     "output_type": "stream",
     "text": [
      "                               Country or Area  Year  Value\n",
      "0                                  Afghanistan  2015   26.8\n",
      "1                                      Albania  2015    5.0\n",
      "2                                      Algeria  2015    5.0\n",
      "4                                      Andorra  2015    5.0\n",
      "5                                       Angola  2015   14.2\n",
      "8                                    Argentina  2015    5.0\n",
      "9                                      Armenia  2015    5.8\n",
      "11                                   Australia  2015    5.0\n",
      "12                                     Austria  2015    5.0\n",
      "13                                  Azerbaijan  2015    5.0\n",
      "16                                  Bangladesh  2015   16.4\n",
      "17                                    Barbados  2015    5.0\n",
      "18                                     Belarus  2015    5.0\n",
      "19                                     Belgium  2015    5.0\n",
      "20                                      Belize  2015    6.2\n",
      "21                                       Benin  2015    7.5\n",
      "22                                     Bermuda  2015    5.0\n",
      "24                                     Bolivia  2015   15.9\n",
      "25                      Bosnia and Herzegovina  2015    5.0\n",
      "26                                    Botswana  2015   24.1\n",
      "27                                      Brazil  2015    5.0\n",
      "29                           Brunei Darussalam  2015    5.0\n",
      "30                                    Bulgaria  2015    5.0\n",
      "31                                Burkina Faso  2015   20.7\n",
      "33                                    Cambodia  2015   14.2\n",
      "34                                    Cameroon  2015    9.9\n",
      "35                                      Canada  2015    5.0\n",
      "36                                  Cape Verde  2015    9.4\n",
      "38                    Central African Republic  2015   47.7\n",
      "39                                        Chad  2015   34.4\n",
      "..                                         ...   ...    ...\n",
      "182                               South Africa  2015    5.0\n",
      "184                                      Spain  2015    5.0\n",
      "185                                  Sri Lanka  2015   22.0\n",
      "189                                   Suriname  2015    8.0\n",
      "190                                  Swaziland  2015   26.8\n",
      "191                                     Sweden  2015    5.0\n",
      "192                                Switzerland  2015    5.0\n",
      "194                                 Tajikistan  2015   33.2\n",
      "195                                   Thailand  2015    7.4\n",
      "196  The former Yugoslav Republic of Macedonia  2015    5.0\n",
      "197                                Timor-Leste  2015   26.9\n",
      "198                                       Togo  2015   11.4\n",
      "201                        Trinidad and Tobago  2015    7.4\n",
      "202                                    Tunisia  2015    5.0\n",
      "203                                     Turkey  2015    5.0\n",
      "204                               Turkmenistan  2015    5.0\n",
      "207                                     Uganda  2015   25.5\n",
      "208                                    Ukraine  2015    5.0\n",
      "209                       United Arab Emirates  2015    5.0\n",
      "210                             United Kingdom  2015    5.0\n",
      "211                United Republic of Tanzania  2015   32.1\n",
      "212                              United States  2015    5.0\n",
      "214                                    Uruguay  2015    5.0\n",
      "215                                 Uzbekistan  2015    5.0\n",
      "216                                    Vanuatu  2015    6.4\n",
      "217                                  Venezuela  2015    5.0\n",
      "218                                   Viet Nam  2015   11.0\n",
      "221                                      Yemen  2015   26.1\n",
      "222                                     Zambia  2015   47.8\n",
      "223                                   Zimbabwe  2015   33.4\n",
      "\n",
      "[170 rows x 3 columns]\n"
     ]
    }
   ],
   "source": [
    "df_2015 = df_2015[np.isfinite(df_2015['Value'])]\n",
    "print(df_2015)"
   ]
  },
  {
   "cell_type": "code",
   "execution_count": 11,
   "metadata": {},
   "outputs": [
    {
     "data": {
      "image/png": "[encoded data removed]",
      "text/plain": [
       "<matplotlib.figure.Figure at 0x10d1e5c88>"
      ]
     },
     "metadata": {},
     "output_type": "display_data"
    }
   ],
   "source": [
    "plt.hist(df_2015['Value'], bins=30, color='red')\n",
    "plt.show()"
   ]
  },
  {
   "cell_type": "code",
   "execution_count": 12,
   "metadata": {},
   "outputs": [
    {
     "data": {
      "image/png": "[encoded data removed]",
      "text/plain": [
       "<matplotlib.figure.Figure at 0x10d230550>"
      ]
     },
     "metadata": {},
     "output_type": "display_data"
    }
   ],
   "source": [
    "plt.figure(figsize=(10, 5))\n",
    "\n",
    "plt.subplot(1, 2, 1)\n",
    "plt.hist(df['Value'], color='blue')\n",
    "plt.ylabel('Number of Countries')\n",
    "plt.title('Population Undernourished, Percentage')\n",
    "\n",
    "plt.subplot(1, 2, 2)\n",
    "plt.hist(x = df_2015['Value'], color='green')\n",
    "plt.ylabel('Number of Countries')\n",
    "plt.title('Population Undernourished, Percentage')\n",
    "plt.show()"
   ]
  },
  {
   "cell_type": "code",
   "execution_count": 13,
   "metadata": {},
   "outputs": [
    {
     "data": {
      "image/png": "[encoded data removed]",
      "text/plain": [
       "<matplotlib.figure.Figure at 0x10d381550>"
      ]
     },
     "metadata": {},
     "output_type": "display_data"
    }
   ],
   "source": [
    "plt.hist(df['Value'], color='blue', bins=np.arange(0, 60), alpha=.5) \n",
    "plt.hist(df_2015['Value'], color='red', bins=np.arange(0, 60), alpha=.5)\n",
    "plt.title('Manually setting bin placement')\n",
    "plt.xlabel('Random Values')\n",
    "\n",
    "plt.show()"
   ]
  },
  {
   "cell_type": "code",
   "execution_count": 14,
   "metadata": {},
   "outputs": [
    {
     "data": {
      "text/plain": [
       "{'boxes': [<matplotlib.lines.Line2D at 0x10d41ca58>],\n",
       " 'caps': [<matplotlib.lines.Line2D at 0x10d5fd278>,\n",
       "  <matplotlib.lines.Line2D at 0x10d5fd5c0>],\n",
       " 'fliers': [<matplotlib.lines.Line2D at 0x10d609da0>],\n",
       " 'means': [],\n",
       " 'medians': [<matplotlib.lines.Line2D at 0x10d589080>],\n",
       " 'whiskers': [<matplotlib.lines.Line2D at 0x10d41c828>,\n",
       "  <matplotlib.lines.Line2D at 0x10d5e6780>]}"
      ]
     },
     "execution_count": 14,
     "metadata": {},
     "output_type": "execute_result"
    },
    {
     "data": {
      "image/png": "[encoded data removed]",
      "text/plain": [
       "<matplotlib.figure.Figure at 0x1099f5be0>"
      ]
     },
     "metadata": {},
     "output_type": "display_data"
    }
   ],
   "source": [
    "plt.boxplot(df_2015['Value'])"
   ]
  },
  {
   "cell_type": "code",
   "execution_count": 15,
   "metadata": {},
   "outputs": [
    {
     "data": {
      "text/plain": [
       "13.95823529411765"
      ]
     },
     "execution_count": 15,
     "metadata": {},
     "output_type": "execute_result"
    }
   ],
   "source": [
    "np.mean(df['Value'])"
   ]
  },
  {
   "cell_type": "code",
   "execution_count": 16,
   "metadata": {},
   "outputs": [
    {
     "data": {
      "text/plain": [
       "11.046470588235293"
      ]
     },
     "execution_count": 16,
     "metadata": {},
     "output_type": "execute_result"
    }
   ],
   "source": [
    "np.mean(df_2015['Value'])"
   ]
  },
  {
   "cell_type": "code",
   "execution_count": 17,
   "metadata": {},
   "outputs": [
    {
     "name": "stdout",
     "output_type": "stream",
     "text": [
      "20.675\n"
     ]
    }
   ],
   "source": [
    "percentile_2005 = np.percentile(df['Value'], 75)\n",
    "print(percentile_2005)"
   ]
  },
  {
   "cell_type": "code",
   "execution_count": 18,
   "metadata": {
    "scrolled": true
   },
   "outputs": [
    {
     "name": "stdout",
     "output_type": "stream",
     "text": [
      "13.45\n"
     ]
    }
   ],
   "source": [
    "percentile_2015 = np.percentile(df_2015['Value'], 75)\n",
    "print(percentile_2015)"
   ]
  },
  {
   "cell_type": "code",
   "execution_count": 19,
   "metadata": {},
   "outputs": [
    {
     "data": {
      "image/png": "[encoded data removed]",
      "text/plain": [
       "<matplotlib.figure.Figure at 0x10d48d7f0>"
      ]
     },
     "metadata": {},
     "output_type": "display_data"
    }
   ],
   "source": [
    "plt.plot(df['Value'])\n",
    "plt.show()"
   ]
  },
  {
   "cell_type": "code",
   "execution_count": null,
   "metadata": {
    "collapsed": true
   },
   "outputs": [],
   "source": []
  }
 ],
 "metadata": {},
 "nbformat": 4,
 "nbformat_minor": 2
}
