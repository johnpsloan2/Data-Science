{
 "cells": [
  {
   "cell_type": "markdown",
   "metadata": {},
   "source": [
    "# Select, From, Where\n",
    "\n",
    "select\n",
    "\ttrip_id,\n",
    "\tduration\n",
    "from\n",
    "\ttrips\n",
    "where\n",
    "\tduration > 500\n",
    "order by duration \n",
    "\n",
    "\n",
    "\n",
    "\n",
    "\n",
    "select\n",
    "\t*\n",
    "from\n",
    "\tstations\n",
    "where\n",
    "\tstation_id = 84\n",
    "\n",
    "\n",
    "\n",
    "\n",
    "\n",
    "\n",
    "select\n",
    "\tMinTemperatureF\n",
    "from\n",
    "\tweather\n",
    "where\n",
    "\tZIP = 94301"
   ]
  },
  {
   "cell_type": "code",
   "execution_count": null,
   "metadata": {
    "collapsed": true
   },
   "outputs": [],
   "source": []
  }
 ],
 "metadata": {
  "kernelspec": {
   "display_name": "Python 3",
   "language": "python",
   "name": "python3"
  },
  "language_info": {
   "codemirror_mode": {
    "name": "ipython",
    "version": 3
   },
   "file_extension": ".py",
   "mimetype": "text/x-python",
   "name": "python",
   "nbconvert_exporter": "python",
   "pygments_lexer": "ipython3",
   "version": "3.6.1"
  }
 },
 "nbformat": 4,
 "nbformat_minor": 2
}
