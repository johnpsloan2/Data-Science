{
 "cells": [
  {
   "cell_type": "markdown",
   "metadata": {},
   "source": [
    "# Aggregates and Groups\n",
    "SELECT\n",
    "    ZIP,\n",
    "    max(MaxTemperatureF) MaxTemperatureF\n",
    "FROM\n",
    "    weather\n",
    "\n",
    "\n",
    "\n",
    "\n",
    "\n",
    "select\n",
    "\tstart_station,\n",
    "\tcount(start_station) counted\n",
    "from\n",
    "\ttrips\n",
    "group by start_station\n",
    "\n",
    "\n",
    "\n",
    "\n",
    "\n",
    "\n",
    "select\n",
    "\tduration,\n",
    "\tmin(duration) shortest\n",
    "from\n",
    "\ttrips\n",
    "\n",
    "\n",
    "\n",
    "\n",
    "\n",
    "\n",
    "\n",
    "select\n",
    "\tend_station,\n",
    "\tavg(duration) average\n",
    "from\n",
    "\ttrips\n",
    "group by end_station\n"
   ]
  }
 ],
 "metadata": {
  "kernelspec": {
   "display_name": "Python 3",
   "language": "python",
   "name": "python3"
  },
  "language_info": {
   "codemirror_mode": {
    "name": "ipython",
    "version": 3
   },
   "file_extension": ".py",
   "mimetype": "text/x-python",
   "name": "python",
   "nbconvert_exporter": "python",
   "pygments_lexer": "ipython3",
   "version": "3.6.1"
  }
 },
 "nbformat": 4,
 "nbformat_minor": 2
}
