{
 "cells": [
  {
   "cell_type": "code",
   "execution_count": 20,
   "metadata": {
    "collapsed": true
   },
   "outputs": [],
   "source": [
    "from scipy.stats.stats import pearsonr\n",
    "import pandas as pd\n",
    "import numpy as np\n",
    "import matplotlib.pyplot as plt\n",
    "from pylab import *\n",
    "%matplotlib inline"
   ]
  },
  {
   "cell_type": "markdown",
   "metadata": {},
   "source": [
    "# Introduction\n",
    "This project is an overview, description, and analysis of three datasets collected from the Sean Lahman Baseball Database. The goals of this analysis is broken down into three parts, each one getting more specific than the next. The first goal is to view the relationship between the amount of money spent by professional baseball teams and the amount of games the teams have won (W). The second goal is to compare a set of pitchers' Earned Run Average (ERA) and/or Strikeouts (SO) to the same set of pitchers' wins (W). This comparison is meant to test whether or not wins is indicative of how well a pitcher is performing. Once a relationship is evaluated, the third goal is to run analysis of the relationship between a set of pitchers wins compared to their salary. All of this analysis is done based on the 2016 Major League Baseball (MLB). "
   ]
  },
  {
   "cell_type": "markdown",
   "metadata": {},
   "source": [
    "# Data\n",
    "The three datasets I will be using for this particular project are laid out below. Here you can find the links to all of the data I used for this project (http://seanlahman.com/baseball-archive/statistics). The \"salaries\" dataset consists of 5 columns of data, but we will be focusing on only the \"salary\", \"teamID\", \"playerID\", and \"pos\"(position) columns for this analysis. The second dataset, \"teams\", is comprised of 48 columns, but for this analysis, only the \"teamID\" and \"W\" columns will be used. Lastly, the \"pitchers\" dataset is made uo of 30 columns; however, the important columns for this analysis are the \"playerID\", \"W\", \"SO\", \"ERA\", and \"GS\" (Games Started) columns. Below are histograms for each column comprised of numerical data as to describe the normality of the datasets of each column. "
   ]
  },
  {
   "cell_type": "code",
   "execution_count": 21,
   "metadata": {},
   "outputs": [],
   "source": [
    "salaries = pd.read_csv('Salaries 2016.csv')\n",
    "pitchers = pd.read_csv('Pitching 2016.csv')\n",
    "teams = pd.read_csv('Teams 2016.csv')"
   ]
  },
  {
   "cell_type": "code",
   "execution_count": 22,
   "metadata": {},
   "outputs": [
    {
     "data": {
      "text/plain": [
       "(array([ 557.,  115.,   60.,   44.,   24.,   19.,   21.,    7.,    3.,    3.]),\n",
       " array([   507500.,   3756750.,   7006000.,  10255250.,  13504500.,\n",
       "         16753750.,  20003000.,  23252250.,  26501500.,  29750750.,\n",
       "         33000000.]),\n",
       " <a list of 10 Patch objects>)"
      ]
     },
     "execution_count": 22,
     "metadata": {},
     "output_type": "execute_result"
    },
    {
     "data": {
      "image/png": "[encoded data removed]",
      "text/plain": [
       "<matplotlib.figure.Figure at 0x11668d470>"
      ]
     },
     "metadata": {},
     "output_type": "display_data"
    }
   ],
   "source": [
    "salaries = salaries[salaries.playerID != 'NaN']\n",
    "top_salaries = salaries.drop(salaries.index[852:854])\n",
    "top_salaries = top_salaries[['salary', 'teamID', 'playerID', 'pos']]\n",
    "plt.hist(top_salaries['salary'])"
   ]
  },
  {
   "cell_type": "markdown",
   "metadata": {},
   "source": [
    "Above, we see the data for the players’ salaries for 2016 season. As we can see, the data has a right skew with most of the players being grouped towards the lesser dollar amount of pay.  "
   ]
  },
  {
   "cell_type": "code",
   "execution_count": 23,
   "metadata": {},
   "outputs": [
    {
     "data": {
      "text/plain": [
       "(array([ 12.,  31.,  30.,  26.,  32.,  25.,  10.,  10.,   4.,   3.]),\n",
       " array([  0. ,   2.2,   4.4,   6.6,   8.8,  11. ,  13.2,  15.4,  17.6,\n",
       "         19.8,  22. ]),\n",
       " <a list of 10 Patch objects>)"
      ]
     },
     "execution_count": 23,
     "metadata": {},
     "output_type": "execute_result"
    },
    {
     "data": {
      "image/png": "[encoded data removed]",
      "text/plain": [
       "<matplotlib.figure.Figure at 0x11668d438>"
      ]
     },
     "metadata": {},
     "output_type": "display_data"
    }
   ],
   "source": [
    "pitchers = pitchers[['playerID' ,'W', 'SO', 'ERA', 'GS']]\n",
    "pitchers = pitchers[pitchers.GS > 9]\n",
    "pitchers = pitchers.drop_duplicates(subset='playerID', keep=\"last\")\n",
    "plt.hist(pitchers['W'])"
   ]
  },
  {
   "cell_type": "markdown",
   "metadata": {},
   "source": [
    "Here, we have a near normal distribution of the pitchers wins in 2016. A slight skew to the right, but a near normal dataset. "
   ]
  },
  {
   "cell_type": "code",
   "execution_count": 24,
   "metadata": {},
   "outputs": [
    {
     "data": {
      "text/plain": [
       "(array([  4.,  22.,  48.,  46.,  36.,  20.,   3.,   2.,   1.,   1.]),\n",
       " array([ 1.69 ,  2.457,  3.224,  3.991,  4.758,  5.525,  6.292,  7.059,\n",
       "         7.826,  8.593,  9.36 ]),\n",
       " <a list of 10 Patch objects>)"
      ]
     },
     "execution_count": 24,
     "metadata": {},
     "output_type": "execute_result"
    },
    {
     "data": {
      "image/png": "[encoded data removed]",
      "text/plain": [
       "<matplotlib.figure.Figure at 0x112951550>"
      ]
     },
     "metadata": {},
     "output_type": "display_data"
    }
   ],
   "source": [
    "plt.hist(pitchers['ERA'])"
   ]
  },
  {
   "cell_type": "markdown",
   "metadata": {},
   "source": [
    "Above is a histogram of the ERA for the 2016 season. This histogram above is another near normal distribution with a right skew. "
   ]
  },
  {
   "cell_type": "code",
   "execution_count": 25,
   "metadata": {},
   "outputs": [
    {
     "data": {
      "text/plain": [
       "(array([ 22.,  32.,  28.,  28.,  28.,  25.,   9.,   5.,   5.,   1.]),\n",
       " array([  27. ,   52.7,   78.4,  104.1,  129.8,  155.5,  181.2,  206.9,\n",
       "         232.6,  258.3,  284. ]),\n",
       " <a list of 10 Patch objects>)"
      ]
     },
     "execution_count": 25,
     "metadata": {},
     "output_type": "execute_result"
    },
    {
     "data": {
      "image/png": "[encoded data removed]",
      "text/plain": [
       "<matplotlib.figure.Figure at 0x11689edd8>"
      ]
     },
     "metadata": {},
     "output_type": "display_data"
    }
   ],
   "source": [
    "plt.hist(pitchers['SO'])"
   ]
  },
  {
   "cell_type": "markdown",
   "metadata": {},
   "source": [
    "Strikeouts is the next histogram we see. This data has a skew to the right as well. "
   ]
  },
  {
   "cell_type": "code",
   "execution_count": 26,
   "metadata": {},
   "outputs": [
    {
     "data": {
      "text/plain": [
       "(array([ 1.,  0.,  7.,  3.,  3.,  3.,  7.,  3.,  2.,  1.]),\n",
       " array([  59. ,   63.4,   67.8,   72.2,   76.6,   81. ,   85.4,   89.8,\n",
       "          94.2,   98.6,  103. ]),\n",
       " <a list of 10 Patch objects>)"
      ]
     },
     "execution_count": 26,
     "metadata": {},
     "output_type": "execute_result"
    },
    {
     "data": {
      "image/png": "[encoded data removed]",
      "text/plain": [
       "<matplotlib.figure.Figure at 0x107720c18>"
      ]
     },
     "metadata": {},
     "output_type": "display_data"
    }
   ],
   "source": [
    "team_wins = teams[['teamID', 'W']]\n",
    "team_wins = team_wins.groupby('teamID')\n",
    "wins_totals = team_wins.sum()\n",
    "wins_totals.sort_values('W', ascending=False)\n",
    "plt.hist(wins_totals['W'])"
   ]
  },
  {
   "cell_type": "markdown",
   "metadata": {},
   "source": [
    "This last histogram is of the team wins in 2016. It has a bit of a bimodal or double peaking look to it. "
   ]
  },
  {
   "cell_type": "markdown",
   "metadata": {},
   "source": [
    "# What is the relationship between a teams total wins and total salaries paid? Do they affect each other? If so, how?"
   ]
  },
  {
   "cell_type": "code",
   "execution_count": 27,
   "metadata": {},
   "outputs": [
    {
     "data": {
      "text/plain": [
       "<matplotlib.text.Text at 0x116d90208>"
      ]
     },
     "execution_count": 27,
     "metadata": {},
     "output_type": "execute_result"
    },
    {
     "data": {
      "image/png": "[encoded data removed]",
      "text/plain": [
       "<matplotlib.figure.Figure at 0x116d18e10>"
      ]
     },
     "metadata": {},
     "output_type": "display_data"
    }
   ],
   "source": [
    "team_salaries = top_salaries[['teamID', 'salary']]\n",
    "team_salaries = team_salaries.groupby('teamID')\n",
    "team_totals = team_salaries.sum()\n",
    "team_totals.sort_values('salary', ascending=False)\n",
    "team_plot = team_totals.sort_values('salary',ascending=False).plot(kind='bar', legend=None, title=\"Total Salaries by Team\")\n",
    "team_plot.set_xlabel(\"Team\")\n",
    "team_plot.set_ylabel(\"Salary Total\")"
   ]
  },
  {
   "cell_type": "markdown",
   "metadata": {},
   "source": [
    "Here is the total amount of salaries paid to both batters and pitchers of each team. This gives us an idea of which teams are spending the most money paying their players and which are spending the least. At a glance, we can see the top spenders are NYY, LAD, DET, BOS, and TEX."
   ]
  },
  {
   "cell_type": "code",
   "execution_count": 28,
   "metadata": {},
   "outputs": [
    {
     "data": {
      "text/plain": [
       "<matplotlib.text.Text at 0x116f28630>"
      ]
     },
     "execution_count": 28,
     "metadata": {},
     "output_type": "execute_result"
    },
    {
     "data": {
      "image/png": "[encoded data removed]",
      "text/plain": [
       "<matplotlib.figure.Figure at 0x116ef8278>"
      ]
     },
     "metadata": {},
     "output_type": "display_data"
    },
    {
     "data": {
      "text/plain": [
       "<matplotlib.figure.Figure at 0x116c09b70>"
      ]
     },
     "metadata": {},
     "output_type": "display_data"
    }
   ],
   "source": [
    "team_wins = teams[['teamID', 'W']]\n",
    "team_wins = team_wins.groupby('teamID')\n",
    "wins_totals = team_wins.sum()\n",
    "wins_totals.sort_values('W', ascending=False)\n",
    "wins_plot = wins_totals.sort_values('W',ascending=False).plot(kind='bar', legend=None, title=\"Total Wins by Team\")\n",
    "plt.figure(figsize=(10, 5))\n",
    "wins_plot.set_xlabel(\"Team\")\n",
    "wins_plot.set_ylabel(\"Wins Total\")"
   ]
  },
  {
   "cell_type": "markdown",
   "metadata": {},
   "source": [
    "Here is the total amount of wins for each team. Again, this gives us a visual of how many games each team won in 2016. The top winners are CHN, WAS, TEX, CLE, BOS. Only two of the top five spenders making the cut. Even CLE being the fifth least spender had the fourth most wins. So just looking over this briefly, one can see that there are discrepancies in the teams spending the most money and teams winning the most games; however, we need to dive deeper for further analysis."
   ]
  },
  {
   "cell_type": "code",
   "execution_count": 29,
   "metadata": {},
   "outputs": [
    {
     "data": {
      "text/plain": [
       "<matplotlib.text.Text at 0x117029cc0>"
      ]
     },
     "execution_count": 29,
     "metadata": {},
     "output_type": "execute_result"
    },
    {
     "data": {
      "image/png": "[encoded data removed]",
      "text/plain": [
       "<matplotlib.figure.Figure at 0x11708d240>"
      ]
     },
     "metadata": {},
     "output_type": "display_data"
    }
   ],
   "source": [
    "teams2 = teams.sort_values(['teamID'])\n",
    "(m1, b1) = np.polyfit(teams2['W'], team_totals['salary'], 1)\n",
    "yp = m1 * teams2['W'] +b1 \n",
    "plt.plot(teams2['W'], yp)\n",
    "plt.scatter(x = teams2['W'], y = team_totals['salary'], color='red')\n",
    "plt.xlabel('Wins')\n",
    "plt.ylabel('Salary')"
   ]
  },
  {
   "cell_type": "code",
   "execution_count": 30,
   "metadata": {},
   "outputs": [
    {
     "data": {
      "text/plain": [
       "(0.58343000515817534, 0.00071415675730728998)"
      ]
     },
     "execution_count": 30,
     "metadata": {},
     "output_type": "execute_result"
    }
   ],
   "source": [
    "pearsonr(teams2['W'], team_totals['salary'])"
   ]
  },
  {
   "cell_type": "markdown",
   "metadata": {},
   "source": [
    "Above is a scatter plot analyzing each teams’ wins based on how much money each team is spending on salary. Below is a calculation of the correlation coefficient. Just by look at the graph and this calculation, we can see there is a positive relationship between the two variables; however, maybe not as much as we would expect. This conclusion may beg the question: \"Why are these teams spending so much money\"?"
   ]
  },
  {
   "cell_type": "markdown",
   "metadata": {},
   "source": [
    "# Is ERA and Strikeouts predicitve of pitcher sucess?"
   ]
  },
  {
   "cell_type": "markdown",
   "metadata": {},
   "source": [
    "Moving on to our second goal of the analysis, we will be moving deeper in the data to analyze individual player performances based on wins. For this analysis, the pitching category was chosen. Specifically, the pitchers with 10 or more games started. We've filtered out the other pitchers to make sure there is enough data on each pitcher to make them statistically significant. Here we will run ERA and SO against W as to determine if the amount of wins a pitcher has is indicative of how well the pitcher is performing."
   ]
  },
  {
   "cell_type": "code",
   "execution_count": 31,
   "metadata": {},
   "outputs": [
    {
     "data": {
      "image/png": "[encoded data removed]",
      "text/plain": [
       "<matplotlib.figure.Figure at 0x11700f438>"
      ]
     },
     "metadata": {},
     "output_type": "display_data"
    }
   ],
   "source": [
    "pitchers = pitchers[['playerID' ,'W', 'SO', 'ERA', 'GS']]\n",
    "pitchers = pitchers[pitchers.GS > 9]\n",
    "pitchers.sort_values('GS', ascending=True)\n",
    "\n",
    "plt.figure(figsize=(10, 5))\n",
    "plt.subplot(1, 2, 1)\n",
    "(m2, b2) = np.polyfit(pitchers['W'], pitchers['ERA'], 1)\n",
    "yp2 = m2 * pitchers['W'] +b2 \n",
    "plt.plot(pitchers['W'], yp2, color='green')\n",
    "plt.scatter(x = pitchers['W'], y = pitchers['ERA'], color='red')\n",
    "plt.xlabel('Wins')\n",
    "plt.ylabel('ERA')\n",
    "\n",
    "plt.subplot(1, 2, 2)\n",
    "(m3, b3) = np.polyfit(pitchers['W'], pitchers['SO'], 1)\n",
    "yp3 = m3 * pitchers['W'] +b3 \n",
    "plt.plot(pitchers['W'], yp3, color='black')\n",
    "plt.scatter(x = pitchers['W'], y = pitchers['SO'], color='blue')\n",
    "plt.xlabel('Wins')\n",
    "plt.ylabel('Strikeouts')\n",
    "\n",
    "plt.tight_layout()\n",
    "plt.show()"
   ]
  },
  {
   "cell_type": "markdown",
   "metadata": {},
   "source": [
    "These two scatter plots show the relationship between the ERA vs. wins and strikeouts vs. wins. We have chosen these to statistics because they are the most indicative of how well a pitcher is performing. On the left, we can see there is a bit of correlation between ERA and wins. We can see a few outliers here, but for the most part the graph seems to be telling a story of a negative correlation. On the right, we have what seems to be a strong correlation between strikeouts and wins. Tightly grouped with a positive correlation."
   ]
  },
  {
   "cell_type": "code",
   "execution_count": 32,
   "metadata": {},
   "outputs": [
    {
     "data": {
      "text/plain": [
       "(-0.59993405301064018, 2.8472179188643593e-19)"
      ]
     },
     "execution_count": 32,
     "metadata": {},
     "output_type": "execute_result"
    }
   ],
   "source": [
    "pearsonr(pitchers['W'], pitchers['ERA'])"
   ]
  },
  {
   "cell_type": "code",
   "execution_count": 33,
   "metadata": {},
   "outputs": [
    {
     "data": {
      "text/plain": [
       "(0.81937250298411801, 1.3173839140071877e-45)"
      ]
     },
     "execution_count": 33,
     "metadata": {},
     "output_type": "execute_result"
    }
   ],
   "source": [
    "pearsonr(pitchers['W'], pitchers['SO'])"
   ]
  },
  {
   "cell_type": "markdown",
   "metadata": {},
   "source": [
    "Looking at the calculations of the correlation coefficients, we can see what we suspected above. A slight negative correlation between ERA and wins, and a strong positive correlation between strikeouts and wins. Since we have established a correlation between a pitcher’s performance on the field and their wins, we can move on the the final goal of analyzing their salaries against their wins."
   ]
  },
  {
   "cell_type": "markdown",
   "metadata": {},
   "source": [
    "# Since wins is predicitive of pitcher success on the field, is there a relationship between wins and a pitcher's salary? Do they influence each other? If so, how?"
   ]
  },
  {
   "cell_type": "code",
   "execution_count": 34,
   "metadata": {
    "collapsed": true
   },
   "outputs": [],
   "source": [
    "pitchers_list = set(pitchers['playerID']).intersection(salaries['playerID'])\n",
    "pitchers2 = pitchers[(pitchers['playerID'].isin([\n",
    "        'wachami01', 'tillmch01', 'colege01', 'shielja02', 'gonzagi01', 'anderch01', 'scherma01', 'sanchaa01', 'walketa01', 'mileywa01', 'roarkta01', 'priceda01', 'lockeje01', 'greinza01', 'gausmke01', 'harvema01', 'liriafr01', 'syndeno01', 'hugheph01', 'vogelry01', 'archech01', 'samarje01', 'wainwad01', 'darviyu01', 'eickhje01', 'hammeja01', 'perdolu02', 'eovalna01', 'peralwi01', 'fistedo01', 'corbipa01', 'rodried05', 'wrighst01', 'rodonca01', 'colonba01', 'hellije01', 'pelfrmi01', 'quintjo01', 'bauertr01', 'smylydr01', 'bundydy01', 'cuetojo01', 'peavyja01', 'weaveje02', 'youngch03', 'mchugco01', 'wislema01', 'lambjo02', 'rossjo01', 'severlu01', 'garcija02', 'jacksed01', 'chatwty01', 'duffyda01', 'maedake01', 'millesh01', 'stromma01', 'carraca01', 'cashnan01', 'nolasri01', 'norrida01', 'bettich01', 'woodal02', 'moorema02', 'mcculla02', 'ventuyo01', 'estrama01', 'lewisco01', 'grayjo02', 'porceri01', 'salech01', 'milonto01', 'graveke01', 'desclan01', 'straida01', 'tanakma01', 'bumgama01', 'verrelo01', 'verlaju01', 'novaiv01', 'karnsna01', 'kershcl01', 'happja01', 'kazmisc01', 'velasvi01', 'stripro01', 'keuchda01', 'norribu01', 'anderty01', 'arrieja01', 'delarru01', 'fernajo02', 'pinedmi01', 'iwakuhi01', 'simonal01', 'grayso01', 'finnebr01', 'hendrky01', 'garzama01', 'hernafe02', 'odorija01', 'buchhcl01', 'niesejo01', 'teherju01', 'wilsoty01', 'martica04', 'chenwe02', 'sabatcc01', 'tomlijo01', 'hillri01', 'koehlto01', 'fiersmi01', 'strasst01', 'lestejo01', 'perezwi01', 'cainma01', 'pomerdr01', 'klubeco01', 'zimmejo02', 'sanchan01', 'lackejo01', 'volqued01', 'nolaaa01', 'gibsoky01', 'santihe01', 'matzst01', 'wrighmi01', 'rayro02', 'nelsoji02', 'kenneia01', 'hamelco01', 'salazda01', 'jimenub01', 'nicasju01', 'degroja01', 'leakemi01', 'gallayo01', 'geedi01', 'conlead01', 'perezma02', 'reaco01', 'shoemma01', 'santaer01']))\n",
    "                    ]\n",
    "pitchers2 = pitchers2.sort_values(['playerID'])\n",
    "pitchers_sal = salaries[(salaries['playerID'].isin([\n",
    "        'wachami01', 'tillmch01', 'colege01', 'shielja02', 'gonzagi01', 'anderch01', 'scherma01', 'sanchaa01', 'walketa01', 'mileywa01', 'roarkta01', 'priceda01', 'lockeje01', 'greinza01', 'gausmke01', 'harvema01', 'liriafr01', 'syndeno01', 'hugheph01', 'vogelry01', 'archech01', 'samarje01', 'wainwad01', 'darviyu01', 'eickhje01', 'hammeja01', 'perdolu02', 'eovalna01', 'peralwi01', 'fistedo01', 'corbipa01', 'rodried05', 'wrighst01', 'rodonca01', 'colonba01', 'hellije01', 'pelfrmi01', 'quintjo01', 'bauertr01', 'smylydr01', 'bundydy01', 'cuetojo01', 'peavyja01', 'weaveje02', 'youngch03', 'mchugco01', 'wislema01', 'lambjo02', 'rossjo01', 'severlu01', 'garcija02', 'jacksed01', 'chatwty01', 'duffyda01', 'maedake01', 'millesh01', 'stromma01', 'carraca01', 'cashnan01', 'nolasri01', 'norrida01', 'bettich01', 'woodal02', 'moorema02', 'mcculla02', 'ventuyo01', 'estrama01', 'lewisco01', 'grayjo02', 'porceri01', 'salech01', 'milonto01', 'graveke01', 'desclan01', 'straida01', 'tanakma01', 'bumgama01', 'verrelo01', 'verlaju01', 'novaiv01', 'karnsna01', 'kershcl01', 'happja01', 'kazmisc01', 'velasvi01', 'stripro01', 'keuchda01', 'norribu01', 'anderty01', 'arrieja01', 'delarru01', 'fernajo02', 'pinedmi01', 'iwakuhi01', 'simonal01', 'grayso01', 'finnebr01', 'hendrky01', 'garzama01', 'hernafe02', 'odorija01', 'buchhcl01', 'niesejo01', 'teherju01', 'wilsoty01', 'martica04', 'chenwe02', 'sabatcc01', 'tomlijo01', 'hillri01', 'koehlto01', 'fiersmi01', 'strasst01', 'lestejo01', 'perezwi01', 'cainma01', 'pomerdr01', 'klubeco01', 'zimmejo02', 'sanchan01', 'lackejo01', 'volqued01', 'nolaaa01', 'gibsoky01', 'santihe01', 'matzst01', 'wrighmi01', 'rayro02', 'nelsoji02', 'kenneia01', 'hamelco01', 'salazda01', 'jimenub01', 'nicasju01', 'degroja01', 'leakemi01', 'gallayo01', 'geedi01', 'conlead01', 'perezma02', 'reaco01', 'shoemma01', 'santaer01']))\n",
    "                       ]\n",
    "pitchers_sal = pitchers_sal.sort_values(['playerID'])"
   ]
  },
  {
   "cell_type": "markdown",
   "metadata": {},
   "source": [
    "   Since not all the pitchers on the \"pitchers\" dataset (with 10 or more GS) matched up with the pitchers on the \"salaries\" dataset, we must only analyze the ones that do match up as to make our analysis accurate. This is what we have done above. "
   ]
  },
  {
   "cell_type": "code",
   "execution_count": 35,
   "metadata": {},
   "outputs": [
    {
     "data": {
      "text/plain": [
       "<matplotlib.text.Text at 0x116c49438>"
      ]
     },
     "execution_count": 35,
     "metadata": {},
     "output_type": "execute_result"
    },
    {
     "data": {
      "image/png": "[encoded data removed]",
      "text/plain": [
       "<matplotlib.figure.Figure at 0x116ff4400>"
      ]
     },
     "metadata": {},
     "output_type": "display_data"
    }
   ],
   "source": [
    "(m4, b4) = np.polyfit(pitchers2['W'], pitchers_sal['salary'], 1)\n",
    "yp4 = m4 * pitchers2['W'] +b4 \n",
    "plt.plot(pitchers2['W'], yp4, color='black')\n",
    "plt.scatter(x = pitchers2['W'], y = pitchers_sal['salary'], color='red')\n",
    "plt.xlabel('Wins')\n",
    "plt.ylabel('Salary')"
   ]
  },
  {
   "cell_type": "markdown",
   "metadata": {},
   "source": [
    "Here is another scatter plot, this time to view the relationship between a pitchers salary and their wins. Just looking at the scatter plot, we can see that the relationship is not very strong at all. We can see a large amount of players below the 1 million dollar mark (1.0), but their wins range from what looks like 16 to 1. The players over 2 million dollars (2.0) have win totals that are ranging from about 3 to 24. Just looking quickly, we can expect this relationship to be pretty weak. \n",
    "\n",
    "Again begging the question, \"Why are teams paying so much money\"?"
   ]
  },
  {
   "cell_type": "code",
   "execution_count": 36,
   "metadata": {},
   "outputs": [
    {
     "data": {
      "text/plain": [
       "(0.31113019486444332, 0.00015542532031459838)"
      ]
     },
     "execution_count": 36,
     "metadata": {},
     "output_type": "execute_result"
    }
   ],
   "source": [
    "pearsonr(pitchers2['W'], pitchers_sal['salary'])"
   ]
  },
  {
   "cell_type": "markdown",
   "metadata": {},
   "source": [
    "This calculation of the correlation coefficient between wins and salary says it all. There seems to be a very, very weak positive correlation between these two variables."
   ]
  },
  {
   "cell_type": "code",
   "execution_count": 37,
   "metadata": {
    "collapsed": true
   },
   "outputs": [],
   "source": [
    "pitchers_sal['salaryRanked'] = pitchers_sal['salary'].rank(ascending=False)\n",
    "pitchers2['winsRanked'] = pitchers2['W'].rank(ascending=False)\n",
    "pitchers_merged = pd.merge(left=pitchers2,right=pitchers_sal)\n",
    "pitchers_merged = pitchers_merged[['playerID', 'salary', 'salaryRanked', 'W', 'winsRanked']                          ]"
   ]
  },
  {
   "cell_type": "markdown",
   "metadata": {},
   "source": [
    "Here we are ranking the salary and wins. This is done so that we are able to divide the groups of players evenly into three groups: Top Third Salaries, Middle Third Salaries, and Bottom Third Salaries. We will use these to analyze and compare each group."
   ]
  },
  {
   "cell_type": "code",
   "execution_count": 38,
   "metadata": {},
   "outputs": [
    {
     "name": "stdout",
     "output_type": "stream",
     "text": [
      "1305\n"
     ]
    }
   ],
   "source": [
    "total_wins = pitchers_merged['W'].sum()\n",
    "print(total_wins)"
   ]
  },
  {
   "cell_type": "code",
   "execution_count": 39,
   "metadata": {},
   "outputs": [
    {
     "name": "stdout",
     "output_type": "stream",
     "text": [
      "956744836.0\n"
     ]
    }
   ],
   "source": [
    "total_pit_sal = pitchers_merged['salary'].sum()\n",
    "print(total_pit_sal)"
   ]
  },
  {
   "cell_type": "code",
   "execution_count": 40,
   "metadata": {},
   "outputs": [
    {
     "data": {
      "text/plain": [
       "733137.8053639847"
      ]
     },
     "execution_count": 40,
     "metadata": {},
     "output_type": "execute_result"
    }
   ],
   "source": [
    "avgPer_wins = total_pit_sal / total_wins\n",
    "avgPer_wins"
   ]
  },
  {
   "cell_type": "markdown",
   "metadata": {},
   "source": [
    "We see the calculation of the average number of money spent per win is above. The average number of money spent per win is a good way to visualize each groups impact per dollar. In other words, how much \"bang for their buck\" each team is getting when paying these players. We can see that the average money spent per win for all pitchers is around $733,138."
   ]
  },
  {
   "cell_type": "code",
   "execution_count": 41,
   "metadata": {
    "collapsed": true,
    "scrolled": true
   },
   "outputs": [],
   "source": [
    "topThird_sal = pitchers_merged[pitchers_merged.salaryRanked < 47]\n",
    "midThird_sal = pitchers_merged[(pitchers_merged['salaryRanked'] >= 48) & (pitchers_merged['salaryRanked'] <= 95)\n",
    "                                             ]\n",
    "botThird_sal = pitchers_merged[pitchers_merged.salaryRanked > 95]"
   ]
  },
  {
   "cell_type": "markdown",
   "metadata": {},
   "source": [
    "Here is where we divide each of our groups based on their salary rank. "
   ]
  },
  {
   "cell_type": "code",
   "execution_count": 42,
   "metadata": {},
   "outputs": [
    {
     "name": "stdout",
     "output_type": "stream",
     "text": [
      "745593153.0\n"
     ]
    }
   ],
   "source": [
    "topThird_tot_sal = topThird_sal['salary'].sum()\n",
    "print(topThird_tot_sal)"
   ]
  },
  {
   "cell_type": "code",
   "execution_count": 43,
   "metadata": {},
   "outputs": [
    {
     "name": "stdout",
     "output_type": "stream",
     "text": [
      "178216733.0\n"
     ]
    }
   ],
   "source": [
    "midThird_tot_sal = midThird_sal['salary'].sum()\n",
    "print(midThird_tot_sal)"
   ]
  },
  {
   "cell_type": "code",
   "execution_count": 44,
   "metadata": {},
   "outputs": [
    {
     "name": "stdout",
     "output_type": "stream",
     "text": [
      "24934950.0\n"
     ]
    }
   ],
   "source": [
    "botThird_tot_sal = botThird_sal['salary'].sum()\n",
    "print(botThird_tot_sal)"
   ]
  },
  {
   "cell_type": "markdown",
   "metadata": {},
   "source": [
    "Here are the calculations for the total salary each group holds. "
   ]
  },
  {
   "cell_type": "code",
   "execution_count": 45,
   "metadata": {},
   "outputs": [
    {
     "name": "stdout",
     "output_type": "stream",
     "text": [
      "504\n"
     ]
    }
   ],
   "source": [
    "topThird_wins = topThird_sal['W'].sum()\n",
    "print(topThird_wins)"
   ]
  },
  {
   "cell_type": "code",
   "execution_count": 46,
   "metadata": {},
   "outputs": [
    {
     "name": "stdout",
     "output_type": "stream",
     "text": [
      "409\n"
     ]
    }
   ],
   "source": [
    "midThird_wins = midThird_sal['W'].sum()\n",
    "print(midThird_wins)"
   ]
  },
  {
   "cell_type": "code",
   "execution_count": 47,
   "metadata": {},
   "outputs": [
    {
     "name": "stdout",
     "output_type": "stream",
     "text": [
      "388\n"
     ]
    }
   ],
   "source": [
    "botThird_wins = botThird_sal['W'].sum()\n",
    "print(botThird_wins)"
   ]
  },
  {
   "cell_type": "markdown",
   "metadata": {},
   "source": [
    "Here are the calcualtions for the total wins each group holds. "
   ]
  },
  {
   "cell_type": "code",
   "execution_count": 48,
   "metadata": {},
   "outputs": [
    {
     "data": {
      "text/plain": [
       "1479351.494047619"
      ]
     },
     "execution_count": 48,
     "metadata": {},
     "output_type": "execute_result"
    }
   ],
   "source": [
    "top_avg = topThird_tot_sal / topThird_wins\n",
    "top_avg"
   ]
  },
  {
   "cell_type": "code",
   "execution_count": 49,
   "metadata": {},
   "outputs": [
    {
     "data": {
      "text/plain": [
       "435737.73349633254"
      ]
     },
     "execution_count": 49,
     "metadata": {},
     "output_type": "execute_result"
    }
   ],
   "source": [
    "mid_avg = midThird_tot_sal / midThird_wins\n",
    "mid_avg"
   ]
  },
  {
   "cell_type": "code",
   "execution_count": 50,
   "metadata": {},
   "outputs": [
    {
     "data": {
      "text/plain": [
       "64265.33505154639"
      ]
     },
     "execution_count": 50,
     "metadata": {},
     "output_type": "execute_result"
    }
   ],
   "source": [
    "bot_avg = botThird_tot_sal / botThird_wins\n",
    "bot_avg"
   ]
  },
  {
   "cell_type": "markdown",
   "metadata": {},
   "source": [
    "Lastly, here are the calculations that we will mainly be looking at, average money spent per win. Let's look at the table below, so we can see more clearly."
   ]
  },
  {
   "cell_type": "code",
   "execution_count": 51,
   "metadata": {},
   "outputs": [
    {
     "data": {
      "text/html": [
       "<div>\n",
       "<style>\n",
       "    .dataframe thead tr:only-child th {\n",
       "        text-align: right;\n",
       "    }\n",
       "\n",
       "    .dataframe thead th {\n",
       "        text-align: left;\n",
       "    }\n",
       "\n",
       "    .dataframe tbody tr th {\n",
       "        vertical-align: top;\n",
       "    }\n",
       "</style>\n",
       "<table border=\"1\" class=\"dataframe\">\n",
       "  <thead>\n",
       "    <tr style=\"text-align: right;\">\n",
       "      <th></th>\n",
       "      <th></th>\n",
       "      <th>Total Salaries</th>\n",
       "      <th>Total Wins</th>\n",
       "      <th>Average $ per Win</th>\n",
       "    </tr>\n",
       "  </thead>\n",
       "  <tbody>\n",
       "    <tr>\n",
       "      <th>0</th>\n",
       "      <td>Top Third Salaries</td>\n",
       "      <td>745593153.0</td>\n",
       "      <td>504</td>\n",
       "      <td>1.479351e+06</td>\n",
       "    </tr>\n",
       "    <tr>\n",
       "      <th>1</th>\n",
       "      <td>Middle Third Salaries</td>\n",
       "      <td>178216733.0</td>\n",
       "      <td>409</td>\n",
       "      <td>4.357377e+05</td>\n",
       "    </tr>\n",
       "    <tr>\n",
       "      <th>2</th>\n",
       "      <td>Bottom Third Salaries</td>\n",
       "      <td>24934950.0</td>\n",
       "      <td>388</td>\n",
       "      <td>6.426534e+04</td>\n",
       "    </tr>\n",
       "    <tr>\n",
       "      <th>3</th>\n",
       "      <td>Total</td>\n",
       "      <td>956744836.0</td>\n",
       "      <td>1305</td>\n",
       "      <td>7.331378e+05</td>\n",
       "    </tr>\n",
       "  </tbody>\n",
       "</table>\n",
       "</div>"
      ],
      "text/plain": [
       "                          Total Salaries  Total Wins  Average $ per Win\n",
       "0     Top Third Salaries     745593153.0         504       1.479351e+06\n",
       "1  Middle Third Salaries     178216733.0         409       4.357377e+05\n",
       "2  Bottom Third Salaries      24934950.0         388       6.426534e+04\n",
       "3                  Total     956744836.0        1305       7.331378e+05"
      ]
     },
     "execution_count": 51,
     "metadata": {},
     "output_type": "execute_result"
    }
   ],
   "source": [
    "pit_data = {' ': ['Top Third Salaries', 'Middle Third Salaries', 'Bottom Third Salaries', 'Total'],\n",
    "        'Total Salaries': [topThird_tot_sal, midThird_tot_sal, botThird_tot_sal, total_pit_sal],\n",
    "        'Total Wins': [topThird_wins, midThird_wins, botThird_wins, total_wins],\n",
    "        'Average $ per Win': [top_avg, mid_avg, bot_avg, avgPer_wins]}\n",
    "\n",
    "pit_table = pd.DataFrame(pit_data, columns=[' ', 'Total Salaries', 'Total Wins', 'Average $ per Win'])\n",
    "pit_table"
   ]
  },
  {
   "cell_type": "markdown",
   "metadata": {},
   "source": [
    "When looking at the table, we can see the Top Third group holds an enormous amount of the total salary in play here; however, they only hold about 38% of the wins. The Middle Third holds less of the salary in play than the Top Third, but only holds around 7% less of the total wins. The Bottom Third holds drastically less than either of the top two groups; however, they only hold about 9% less wins than the Top Third. This is much more clearly depicted in the pie charts below. \n",
    "\n",
    "Let's take a look at the average money spent per win. Average money spent per win is what tells the whole story. It seems as though the Top Third is being overpaid for their wins based on the overall average of the groups. The Top Third is almost doubling the total average. This could be considered a bad investment on the side of the teams. "
   ]
  },
  {
   "cell_type": "code",
   "execution_count": 52,
   "metadata": {},
   "outputs": [
    {
     "data": {
      "image/png": "[encoded data removed]",
      "text/plain": [
       "<matplotlib.figure.Figure at 0x1172feb00>"
      ]
     },
     "metadata": {},
     "output_type": "display_data"
    }
   ],
   "source": [
    "labels = 'Top Third Paid Players', 'Middle Third Paid Players', 'Bottom Third Paid Players'\n",
    "sizes1 = [topThird_tot_sal, midThird_tot_sal, botThird_tot_sal]\n",
    "colors = ['gold', 'lightskyblue', 'lightcoral']\n",
    "sizes2 = [topThird_wins, midThird_wins, botThird_wins]\n",
    "explode = (0, 0, 0.1)\n",
    "\n",
    "plt.figure(figsize=(15, 10))\n",
    "plt.legend(labels, loc = 4)\n",
    "fig1 = plt.subplot(1, 2, 1)\n",
    "plt.pie(sizes1, explode=explode, colors=colors, autopct='%1.1f%%',shadow=True, startangle=100)\n",
    "plt.axis('equal')\n",
    "plt.title('Percentage of Aggregate Salary Held')\n",
    "plt.legend(labels, loc = 4)\n",
    "\n",
    "plt.subplot(1, 2, 2)\n",
    "plt.pie(sizes2, explode=explode, colors=colors, autopct='%1.1f%%', shadow=True, startangle=340)\n",
    "plt.axis('equal')\n",
    "plt.title('Percentage of Aggregate Wins Held')\n",
    "\n",
    "plt.show()"
   ]
  },
  {
   "cell_type": "markdown",
   "metadata": {},
   "source": [
    "The pie charts above are a clear representation of what we explained in the numbers above. The Bottom Third salaries are exploded for emphasis that they hold just 2.6% of the total salary in play; however, they hold 29.8% of the wins. This is just 9% under the Top Third salaries that hold an enormous 78.6%!"
   ]
  },
  {
   "cell_type": "markdown",
   "metadata": {},
   "source": [
    "# Conclusion and Further Research"
   ]
  },
  {
   "cell_type": "markdown",
   "metadata": {
    "collapsed": true
   },
   "source": [
    "All in all, this has been an analysis of how teams are spending their money on players' salary against how many games they won in the 2016. First, we overviewed the teams salaries vs. the teams wins and saw a fair positive correlation between the two. Next, we proved that wins are actually indicative of their performance on the field. We accomplished this by running two important pitching statistics, ERA and SO, against the pitching wins. We received a fair negative correlation between ERA and wins, and a strong positive correlation between SO and wins. Next, we ran pitching wins against pitching salaries and saw little to no correlation at all between the two. Then, we viewed the average money spent per wins for three groups of pitchers: Top Third Salary Holders, Middle Third Salary Holders, and Bottom Third Salary Holders. We saw that the Top Third seemed to be overpaid for their contributions to the win column. Lastly, we viewed the percentage of wins held by each group against the percentage of the total salary held by each group. \n",
    "\n",
    "An important path of further research after this analysis would be to answer the question \"Why are teams spending so much money on these players\"? Traveling down this path may take us to look at how much draw a player has on the fans. Look at revenues, ticket sales, ect. based on players and when they were playing. I would imagine teams are paying these players this much money for a reason. \n",
    "\n",
    "Another important path could be analyzing the batters for each team as well and comparing the wins for statistical analysis as well. "
   ]
  }
 ],
 "metadata": {
  "kernelspec": {
   "display_name": "Python 3",
   "language": "python",
   "name": "python3"
  },
  "language_info": {
   "codemirror_mode": {
    "name": "ipython",
    "version": 3
   },
   "file_extension": ".py",
   "mimetype": "text/x-python",
   "name": "python",
   "nbconvert_exporter": "python",
   "pygments_lexer": "ipython3",
   "version": "3.6.1"
  }
 },
 "nbformat": 4,
 "nbformat_minor": 2
}
