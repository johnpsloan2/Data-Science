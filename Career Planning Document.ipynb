{
 "cells": [
  {
   "cell_type": "markdown",
   "metadata": {},
   "source": [
    "# Explore the landscape"
   ]
  },
  {
   "cell_type": "markdown",
   "metadata": {},
   "source": [
    "Frankly, I was surprised at my results to both of the surveys, but this could be consequence of not knowing some of the jargon and learning on intuition in those cases. I considered my interests and skills to be tailored more towards business and machine learning, but I received more of Math/OR results. \n",
    "\n",
    "To me, data science means the art of collecting, manipulating, and analyzing data for the purpose of making a decision or creating a product, application, or program. There are varying means of collecting, manipulating, and analyzing data. There are also difference purposes for using that data to create a wide range of things, but in my opinion, this is the overarching idea of data science. "
   ]
  },
  {
   "cell_type": "markdown",
   "metadata": {},
   "source": [
    "# Survery the job market"
   ]
  },
  {
   "cell_type": "markdown",
   "metadata": {},
   "source": [
    "https://jobs.apple.com/search?job=57255953&openJobId=57255953#&openJobId=57255953\n",
    "\n",
    "The title for this job is a Machine Learning Researcher. I picked this job because of the opportunity to create intelligent application used by millions of people and collaborate with high-end product development teams. "
   ]
  },
  {
   "cell_type": "markdown",
   "metadata": {},
   "source": [
    "https://www.indeed.com/cmp/eLoupes/jobs/Software-Engineer-09b4e99d23db76d5?sjdu=QwrRXKrqZ3CNX5W-O9jEvRFd8FQI4DEv5V74lSpSnHZOahw8Miy2IlvmTkyRpJFbLY8wUcbaUh1wi41xlrRrjUEanTERhrraiRDinq9w2_aSXdUNLneO71aj8UdPkLuo\n",
    "\n",
    "I chose this job because of the opportunity to help people in the world by designing robotics through machine learning to help in the medical field. \n"
   ]
  },
  {
   "cell_type": "markdown",
   "metadata": {},
   "source": [
    "http://jobs.jpmorganchase.com/ShowJob/Id/60947/FX%20Python%20Engineer\n",
    "\n",
    "I chose this job because I feel that it really fits my strengths right now as a merge between someone with knowledge in trading and finance with my eventual knowledge of data science."
   ]
  },
  {
   "cell_type": "markdown",
   "metadata": {},
   "source": [
    "https://www.cybercoders.com/data-scientist-job-359960?jobId=SBS-1383576&refId=SBS-13835762&ad=recruiticsindeed&rx_campaign=indeed36&rx_group=102301&rx_job=SBS-13835762&rx_source=Indeed&rx_medium=cpc\n",
    "\n",
    "I chose this job for the same reasons as above basically. It fits my previous strengths and my strengths I am learning now. "
   ]
  },
  {
   "cell_type": "markdown",
   "metadata": {},
   "source": [
    "https://www.uber.com/careers/list/33979/?iis=job-V002A-eng&iisn=Indeed&rx_campaign=indeed0&rx_group=101535&rx_job=33979&rx_source=Indeed\n",
    "\n",
    "I chose this job because I feel that given the opportunity I could be really valuable in a role such as this one. I can create visualizations that connect with logic to make accurate business decisions. "
   ]
  },
  {
   "cell_type": "markdown",
   "metadata": {},
   "source": [
    "Tesla – I chose this company because of the opportunity to work on self-driving technology as well as the non-profit OpenAI. With my interests in artificial intelligence and desire to help and change the world, I believe this is a great company to be interested in. \n",
    "\n",
    "IBM – I chose this company because of their development of Watson. I really like the idea of using artificial intelligence to help with medical research and diagnoses. \n",
    "\n",
    "Google – I chose this company because of their work with Open Mind. Similar to the above choices, I think this a great route for my interests. \n",
    "\n",
    "Intel – Intel has done huge amounts of work for artificial intelligence and machine learning. \n",
    "\n",
    "Facebook – Facebook is one of the world leading companies in cutting edge machine learning, and I can use my abilities to be able to shape what types of artificial intelligence comes form the company. "
   ]
  },
  {
   "cell_type": "markdown",
   "metadata": {},
   "source": [
    "# Events"
   ]
  },
  {
   "cell_type": "markdown",
   "metadata": {},
   "source": [
    "https://www.meetup.com/Seattle-DAML/\n",
    "\n",
    "https://www.meetup.com/SeattleDataForGood/"
   ]
  },
  {
   "cell_type": "markdown",
   "metadata": {},
   "source": [
    "# Write your own story"
   ]
  },
  {
   "cell_type": "markdown",
   "metadata": {},
   "source": [
    "I am a Data Engineer working in the technological industry. My expertise is tailored towards neural nets, decision trees, and computation complexity with experience in computer vision as well. My accomplishments come from working in many different industries and creatively tailoring my skills to this industry. Some of these accomplishments are as followed: Contributed to the work in developing Uber’s automated self-driving delivery cars and contributed to work on medical AI to help make quicker and more accurate diagnoses in the medical field."
   ]
  },
  {
   "cell_type": "markdown",
   "metadata": {},
   "source": [
    "I am Data Engineer working in the technological industry to help solve problems in the artificial intelligence field. I work with computers and datasets to develop helpful artificial intelligence programs. I have skills in computer programming, big data, machine learning, math, statistics and algorithms. \n"
   ]
  },
  {
   "cell_type": "markdown",
   "metadata": {},
   "source": [
    "I am a Data Engineer working add to the world of artificial intelligence and machine learning. I have worked in many different fields pushing the envelope on what AI can achieve. I have worked on cutting edge projects at both Uber and IBM. \n"
   ]
  }
 ],
 "metadata": {
  "kernelspec": {
   "display_name": "Python 3",
   "language": "python",
   "name": "python3"
  },
  "language_info": {
   "codemirror_mode": {
    "name": "ipython",
    "version": 3
   },
   "file_extension": ".py",
   "mimetype": "text/x-python",
   "name": "python",
   "nbconvert_exporter": "python",
   "pygments_lexer": "ipython3",
   "version": "3.6.1"
  }
 },
 "nbformat": 4,
 "nbformat_minor": 2
}
