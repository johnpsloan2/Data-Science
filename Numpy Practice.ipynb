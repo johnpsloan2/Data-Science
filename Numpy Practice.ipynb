{
 "cells": [
  {
   "cell_type": "code",
   "execution_count": 12,
   "metadata": {},
   "outputs": [
    {
     "name": "stdout",
     "output_type": "stream",
     "text": [
      "[[0 1]\n",
      " [2 3]\n",
      " [4 5]\n",
      " [6 7]\n",
      " [8 9]]\n"
     ]
    }
   ],
   "source": [
    "import numpy as np\n",
    "x = np.arange(10).reshape(5,2)\n",
    "print (x)"
   ]
  },
  {
   "cell_type": "code",
   "execution_count": 9,
   "metadata": {},
   "outputs": [
    {
     "name": "stdout",
     "output_type": "stream",
     "text": [
      "[[0 1]\n",
      " [2 3]\n",
      " [4 5]\n",
      " [6 7]\n",
      " [8 9]]\n"
     ]
    }
   ],
   "source": [
    "print (x)"
   ]
  },
  {
   "cell_type": "code",
   "execution_count": 14,
   "metadata": {},
   "outputs": [
    {
     "name": "stdout",
     "output_type": "stream",
     "text": [
      "[[ 0  1]\n",
      " [ 4  9]\n",
      " [16 25]\n",
      " [36 49]\n",
      " [64 81]]\n",
      "[[ 0.          1.        ]\n",
      " [ 1.41421356  1.73205081]\n",
      " [ 2.          2.23606798]\n",
      " [ 2.44948974  2.64575131]\n",
      " [ 2.82842712  3.        ]]\n",
      "[[ 1.          0.54030231]\n",
      " [-0.41614684 -0.9899925 ]\n",
      " [-0.65364362  0.28366219]\n",
      " [ 0.96017029  0.75390225]\n",
      " [-0.14550003 -0.91113026]]\n"
     ]
    }
   ],
   "source": [
    "print(np.square(x))\n",
    "\n",
    "print(np.sqrt(x))\n",
    "\n",
    "print(np.cos(x))"
   ]
  },
  {
   "cell_type": "code",
   "execution_count": 15,
   "metadata": {},
   "outputs": [
    {
     "name": "stdout",
     "output_type": "stream",
     "text": [
      "9\n",
      "0\n",
      "4.5\n",
      "2.87228132327\n"
     ]
    }
   ],
   "source": [
    "print(np.max(x))\n",
    "\n",
    "print(np.min(x))\n",
    "\n",
    "print(np.mean(x))\n",
    "\n",
    "print(np.std(x))\n"
   ]
  },
  {
   "cell_type": "code",
   "execution_count": null,
   "metadata": {
    "collapsed": true
   },
   "outputs": [],
   "source": []
  }
 ],
 "metadata": {
  "kernelspec": {
   "display_name": "Python 3",
   "language": "python",
   "name": "python3"
  },
  "language_info": {
   "codemirror_mode": {
    "name": "ipython",
    "version": 3
   },
   "file_extension": ".py",
   "mimetype": "text/x-python",
   "name": "python",
   "nbconvert_exporter": "python",
   "pygments_lexer": "ipython3",
   "version": "3.6.1"
  }
 },
 "nbformat": 4,
 "nbformat_minor": 2
}
